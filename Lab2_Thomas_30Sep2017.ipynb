{
 "cells": [
  {
   "cell_type": "markdown",
   "metadata": {},
   "source": [
    "# Welcome to Lab Session 2 - Derek Thomas - 30Sep2017"
   ]
  },
  {
   "cell_type": "markdown",
   "metadata": {},
   "source": [
    "## Define the environment for the Dataframe"
   ]
  },
  {
   "cell_type": "code",
   "execution_count": 17,
   "metadata": {
    "ExecuteTime": {
     "end_time": "2017-09-30T17:23:52.706921Z",
     "start_time": "2017-09-30T17:23:52.699850Z"
    }
   },
   "outputs": [],
   "source": [
    "import pandas as pd\n",
    "import numpy as np\n",
    "import warnings\n",
    "warnings.filterwarnings('ignore')"
   ]
  },
  {
   "cell_type": "markdown",
   "metadata": {
    "ExecuteTime": {
     "end_time": "2017-09-23T13:35:42.618725Z",
     "start_time": "2017-09-23T13:35:42.615218Z"
    }
   },
   "source": [
    "## Import the Dataframe and parse relevant columns"
   ]
  },
  {
   "cell_type": "code",
   "execution_count": 18,
   "metadata": {
    "ExecuteTime": {
     "end_time": "2017-09-30T17:23:55.410617Z",
     "start_time": "2017-09-30T17:23:55.211892Z"
    }
   },
   "outputs": [],
   "source": [
    "df = pd.read_excel('Information is Beautiful_ Data Breaches (public).xlsx', header=1, sheetname='2017 update',parse_cols=('A,D:G,J'))"
   ]
  },
  {
   "cell_type": "code",
   "execution_count": 19,
   "metadata": {
    "ExecuteTime": {
     "end_time": "2017-09-30T17:23:55.702740Z",
     "start_time": "2017-09-30T17:23:55.679935Z"
    }
   },
   "outputs": [
    {
     "data": {
      "text/html": [
       "<div>\n",
       "<style>\n",
       "    .dataframe thead tr:only-child th {\n",
       "        text-align: right;\n",
       "    }\n",
       "\n",
       "    .dataframe thead th {\n",
       "        text-align: left;\n",
       "    }\n",
       "\n",
       "    .dataframe tbody tr th {\n",
       "        vertical-align: top;\n",
       "    }\n",
       "</style>\n",
       "<table border=\"1\" class=\"dataframe\">\n",
       "  <thead>\n",
       "    <tr style=\"text-align: right;\">\n",
       "      <th></th>\n",
       "      <th>Entity</th>\n",
       "      <th>YEAR</th>\n",
       "      <th>records lost</th>\n",
       "      <th>ORGANISATION</th>\n",
       "      <th>METHOD OF LEAK</th>\n",
       "      <th>DATA SENSITIVITY</th>\n",
       "    </tr>\n",
       "  </thead>\n",
       "  <tbody>\n",
       "    <tr>\n",
       "      <th>0</th>\n",
       "      <td>NaN</td>\n",
       "      <td>years are encoded (0=2004, 8 = 2012, 9 = 2013,...</td>\n",
       "      <td>(use 3m, 4m, 5m or 10m to approximate unknown ...</td>\n",
       "      <td>NaN</td>\n",
       "      <td>NaN</td>\n",
       "      <td>1. Just email address/Online information 20 SS...</td>\n",
       "    </tr>\n",
       "    <tr>\n",
       "      <th>1</th>\n",
       "      <td>AOL</td>\n",
       "      <td>0</td>\n",
       "      <td>92000000</td>\n",
       "      <td>web</td>\n",
       "      <td>inside job</td>\n",
       "      <td>1</td>\n",
       "    </tr>\n",
       "    <tr>\n",
       "      <th>2</th>\n",
       "      <td>Automatic Data Processing</td>\n",
       "      <td>1</td>\n",
       "      <td>125000</td>\n",
       "      <td>financial</td>\n",
       "      <td>poor security</td>\n",
       "      <td>20</td>\n",
       "    </tr>\n",
       "    <tr>\n",
       "      <th>3</th>\n",
       "      <td>Ameritrade Inc.</td>\n",
       "      <td>1</td>\n",
       "      <td>200000</td>\n",
       "      <td>financial</td>\n",
       "      <td>lost / stolen device</td>\n",
       "      <td>20</td>\n",
       "    </tr>\n",
       "  </tbody>\n",
       "</table>\n",
       "</div>"
      ],
      "text/plain": [
       "                      Entity  \\\n",
       "0                        NaN   \n",
       "1                        AOL   \n",
       "2  Automatic Data Processing   \n",
       "3            Ameritrade Inc.   \n",
       "\n",
       "                                                YEAR  \\\n",
       "0  years are encoded (0=2004, 8 = 2012, 9 = 2013,...   \n",
       "1                                                  0   \n",
       "2                                                  1   \n",
       "3                                                  1   \n",
       "\n",
       "                                        records lost ORGANISATION  \\\n",
       "0  (use 3m, 4m, 5m or 10m to approximate unknown ...          NaN   \n",
       "1                                           92000000          web   \n",
       "2                                             125000    financial   \n",
       "3                                             200000    financial   \n",
       "\n",
       "         METHOD OF LEAK                                   DATA SENSITIVITY  \n",
       "0                   NaN  1. Just email address/Online information 20 SS...  \n",
       "1            inside job                                                  1  \n",
       "2         poor security                                                 20  \n",
       "3  lost / stolen device                                                 20  "
      ]
     },
     "execution_count": 19,
     "metadata": {},
     "output_type": "execute_result"
    }
   ],
   "source": [
    "df.head(4)"
   ]
  },
  {
   "cell_type": "markdown",
   "metadata": {},
   "source": [
    "## Modify column names"
   ]
  },
  {
   "cell_type": "code",
   "execution_count": 20,
   "metadata": {
    "ExecuteTime": {
     "end_time": "2017-09-30T17:23:57.011964Z",
     "start_time": "2017-09-30T17:23:56.989016Z"
    }
   },
   "outputs": [
    {
     "data": {
      "text/html": [
       "<div>\n",
       "<style>\n",
       "    .dataframe thead tr:only-child th {\n",
       "        text-align: right;\n",
       "    }\n",
       "\n",
       "    .dataframe thead th {\n",
       "        text-align: left;\n",
       "    }\n",
       "\n",
       "    .dataframe tbody tr th {\n",
       "        vertical-align: top;\n",
       "    }\n",
       "</style>\n",
       "<table border=\"1\" class=\"dataframe\">\n",
       "  <thead>\n",
       "    <tr style=\"text-align: right;\">\n",
       "      <th></th>\n",
       "      <th>Entity</th>\n",
       "      <th>Year</th>\n",
       "      <th>Records Lost</th>\n",
       "      <th>Organization</th>\n",
       "      <th>Method of Leak</th>\n",
       "      <th>Sensitivity</th>\n",
       "    </tr>\n",
       "  </thead>\n",
       "  <tbody>\n",
       "    <tr>\n",
       "      <th>0</th>\n",
       "      <td>NaN</td>\n",
       "      <td>years are encoded (0=2004, 8 = 2012, 9 = 2013,...</td>\n",
       "      <td>(use 3m, 4m, 5m or 10m to approximate unknown ...</td>\n",
       "      <td>NaN</td>\n",
       "      <td>NaN</td>\n",
       "      <td>1. Just email address/Online information 20 SS...</td>\n",
       "    </tr>\n",
       "    <tr>\n",
       "      <th>1</th>\n",
       "      <td>AOL</td>\n",
       "      <td>0</td>\n",
       "      <td>92000000</td>\n",
       "      <td>web</td>\n",
       "      <td>inside job</td>\n",
       "      <td>1</td>\n",
       "    </tr>\n",
       "    <tr>\n",
       "      <th>2</th>\n",
       "      <td>Automatic Data Processing</td>\n",
       "      <td>1</td>\n",
       "      <td>125000</td>\n",
       "      <td>financial</td>\n",
       "      <td>poor security</td>\n",
       "      <td>20</td>\n",
       "    </tr>\n",
       "    <tr>\n",
       "      <th>3</th>\n",
       "      <td>Ameritrade Inc.</td>\n",
       "      <td>1</td>\n",
       "      <td>200000</td>\n",
       "      <td>financial</td>\n",
       "      <td>lost / stolen device</td>\n",
       "      <td>20</td>\n",
       "    </tr>\n",
       "  </tbody>\n",
       "</table>\n",
       "</div>"
      ],
      "text/plain": [
       "                      Entity  \\\n",
       "0                        NaN   \n",
       "1                        AOL   \n",
       "2  Automatic Data Processing   \n",
       "3            Ameritrade Inc.   \n",
       "\n",
       "                                                Year  \\\n",
       "0  years are encoded (0=2004, 8 = 2012, 9 = 2013,...   \n",
       "1                                                  0   \n",
       "2                                                  1   \n",
       "3                                                  1   \n",
       "\n",
       "                                        Records Lost Organization  \\\n",
       "0  (use 3m, 4m, 5m or 10m to approximate unknown ...          NaN   \n",
       "1                                           92000000          web   \n",
       "2                                             125000    financial   \n",
       "3                                             200000    financial   \n",
       "\n",
       "         Method of Leak                                        Sensitivity  \n",
       "0                   NaN  1. Just email address/Online information 20 SS...  \n",
       "1            inside job                                                  1  \n",
       "2         poor security                                                 20  \n",
       "3  lost / stolen device                                                 20  "
      ]
     },
     "execution_count": 20,
     "metadata": {},
     "output_type": "execute_result"
    }
   ],
   "source": [
    "df.columns=['Entity',\\\n",
    "            'Year',\\\n",
    "            'Records Lost',\\\n",
    "            'Organization',\\\n",
    "            'Method of Leak',\\\n",
    "            'Sensitivity']\n",
    "df.head(4)"
   ]
  },
  {
   "cell_type": "markdown",
   "metadata": {},
   "source": [
    "## Delete irrelevant narrartive row"
   ]
  },
  {
   "cell_type": "code",
   "execution_count": 21,
   "metadata": {
    "ExecuteTime": {
     "end_time": "2017-09-30T17:23:58.122554Z",
     "start_time": "2017-09-30T17:23:58.101613Z"
    },
    "scrolled": false
   },
   "outputs": [
    {
     "data": {
      "text/html": [
       "<div>\n",
       "<style>\n",
       "    .dataframe thead tr:only-child th {\n",
       "        text-align: right;\n",
       "    }\n",
       "\n",
       "    .dataframe thead th {\n",
       "        text-align: left;\n",
       "    }\n",
       "\n",
       "    .dataframe tbody tr th {\n",
       "        vertical-align: top;\n",
       "    }\n",
       "</style>\n",
       "<table border=\"1\" class=\"dataframe\">\n",
       "  <thead>\n",
       "    <tr style=\"text-align: right;\">\n",
       "      <th></th>\n",
       "      <th>Entity</th>\n",
       "      <th>Year</th>\n",
       "      <th>Records Lost</th>\n",
       "      <th>Organization</th>\n",
       "      <th>Method of Leak</th>\n",
       "      <th>Sensitivity</th>\n",
       "    </tr>\n",
       "  </thead>\n",
       "  <tbody>\n",
       "    <tr>\n",
       "      <th>1</th>\n",
       "      <td>AOL</td>\n",
       "      <td>0</td>\n",
       "      <td>92000000</td>\n",
       "      <td>web</td>\n",
       "      <td>inside job</td>\n",
       "      <td>1</td>\n",
       "    </tr>\n",
       "    <tr>\n",
       "      <th>2</th>\n",
       "      <td>Automatic Data Processing</td>\n",
       "      <td>1</td>\n",
       "      <td>125000</td>\n",
       "      <td>financial</td>\n",
       "      <td>poor security</td>\n",
       "      <td>20</td>\n",
       "    </tr>\n",
       "    <tr>\n",
       "      <th>3</th>\n",
       "      <td>Ameritrade Inc.</td>\n",
       "      <td>1</td>\n",
       "      <td>200000</td>\n",
       "      <td>financial</td>\n",
       "      <td>lost / stolen device</td>\n",
       "      <td>20</td>\n",
       "    </tr>\n",
       "    <tr>\n",
       "      <th>4</th>\n",
       "      <td>Citigroup</td>\n",
       "      <td>1</td>\n",
       "      <td>3900000</td>\n",
       "      <td>financial</td>\n",
       "      <td>lost / stolen device</td>\n",
       "      <td>300</td>\n",
       "    </tr>\n",
       "  </tbody>\n",
       "</table>\n",
       "</div>"
      ],
      "text/plain": [
       "                      Entity Year Records Lost Organization  \\\n",
       "1                        AOL    0     92000000          web   \n",
       "2  Automatic Data Processing    1       125000    financial   \n",
       "3            Ameritrade Inc.    1       200000    financial   \n",
       "4                  Citigroup    1      3900000    financial   \n",
       "\n",
       "         Method of Leak Sensitivity  \n",
       "1            inside job           1  \n",
       "2         poor security          20  \n",
       "3  lost / stolen device          20  \n",
       "4  lost / stolen device         300  "
      ]
     },
     "execution_count": 21,
     "metadata": {},
     "output_type": "execute_result"
    }
   ],
   "source": [
    "df = df.drop(df.index[0])\n",
    "df.head(4)"
   ]
  },
  {
   "cell_type": "markdown",
   "metadata": {},
   "source": [
    "## Convert Year index to Calendar Year value"
   ]
  },
  {
   "cell_type": "code",
   "execution_count": 22,
   "metadata": {
    "ExecuteTime": {
     "end_time": "2017-09-30T17:23:59.397211Z",
     "start_time": "2017-09-30T17:23:59.365167Z"
    }
   },
   "outputs": [
    {
     "data": {
      "text/html": [
       "<div>\n",
       "<style>\n",
       "    .dataframe thead tr:only-child th {\n",
       "        text-align: right;\n",
       "    }\n",
       "\n",
       "    .dataframe thead th {\n",
       "        text-align: left;\n",
       "    }\n",
       "\n",
       "    .dataframe tbody tr th {\n",
       "        vertical-align: top;\n",
       "    }\n",
       "</style>\n",
       "<table border=\"1\" class=\"dataframe\">\n",
       "  <thead>\n",
       "    <tr style=\"text-align: right;\">\n",
       "      <th></th>\n",
       "      <th>Entity</th>\n",
       "      <th>Year</th>\n",
       "      <th>Records Lost</th>\n",
       "      <th>Organization</th>\n",
       "      <th>Method of Leak</th>\n",
       "      <th>Sensitivity</th>\n",
       "    </tr>\n",
       "  </thead>\n",
       "  <tbody>\n",
       "    <tr>\n",
       "      <th>1</th>\n",
       "      <td>AOL</td>\n",
       "      <td>2004</td>\n",
       "      <td>92000000</td>\n",
       "      <td>web</td>\n",
       "      <td>inside job</td>\n",
       "      <td>1</td>\n",
       "    </tr>\n",
       "    <tr>\n",
       "      <th>2</th>\n",
       "      <td>Automatic Data Processing</td>\n",
       "      <td>2005</td>\n",
       "      <td>125000</td>\n",
       "      <td>financial</td>\n",
       "      <td>poor security</td>\n",
       "      <td>20</td>\n",
       "    </tr>\n",
       "    <tr>\n",
       "      <th>3</th>\n",
       "      <td>Ameritrade Inc.</td>\n",
       "      <td>2005</td>\n",
       "      <td>200000</td>\n",
       "      <td>financial</td>\n",
       "      <td>lost / stolen device</td>\n",
       "      <td>20</td>\n",
       "    </tr>\n",
       "    <tr>\n",
       "      <th>4</th>\n",
       "      <td>Citigroup</td>\n",
       "      <td>2005</td>\n",
       "      <td>3900000</td>\n",
       "      <td>financial</td>\n",
       "      <td>lost / stolen device</td>\n",
       "      <td>300</td>\n",
       "    </tr>\n",
       "  </tbody>\n",
       "</table>\n",
       "</div>"
      ],
      "text/plain": [
       "                      Entity  Year Records Lost Organization  \\\n",
       "1                        AOL  2004     92000000          web   \n",
       "2  Automatic Data Processing  2005       125000    financial   \n",
       "3            Ameritrade Inc.  2005       200000    financial   \n",
       "4                  Citigroup  2005      3900000    financial   \n",
       "\n",
       "         Method of Leak Sensitivity  \n",
       "1            inside job           1  \n",
       "2         poor security          20  \n",
       "3  lost / stolen device          20  \n",
       "4  lost / stolen device         300  "
      ]
     },
     "execution_count": 22,
     "metadata": {},
     "output_type": "execute_result"
    }
   ],
   "source": [
    "def ConvertYear(x):\n",
    "    if (x != '14'):\n",
    "        return str((int(x) + 2004))\n",
    "    else:\n",
    "        return ('2017')\n",
    "df['Year'] = df.Year.apply(ConvertYear)\n",
    "df.head(4)"
   ]
  },
  {
   "cell_type": "markdown",
   "metadata": {},
   "source": [
    "## Convert all \"Organization\" descriptions to Captialized case"
   ]
  },
  {
   "cell_type": "code",
   "execution_count": 23,
   "metadata": {
    "ExecuteTime": {
     "end_time": "2017-09-30T17:24:00.501298Z",
     "start_time": "2017-09-30T17:24:00.480255Z"
    },
    "scrolled": true
   },
   "outputs": [
    {
     "data": {
      "text/html": [
       "<div>\n",
       "<style>\n",
       "    .dataframe thead tr:only-child th {\n",
       "        text-align: right;\n",
       "    }\n",
       "\n",
       "    .dataframe thead th {\n",
       "        text-align: left;\n",
       "    }\n",
       "\n",
       "    .dataframe tbody tr th {\n",
       "        vertical-align: top;\n",
       "    }\n",
       "</style>\n",
       "<table border=\"1\" class=\"dataframe\">\n",
       "  <thead>\n",
       "    <tr style=\"text-align: right;\">\n",
       "      <th></th>\n",
       "      <th>Entity</th>\n",
       "      <th>Year</th>\n",
       "      <th>Records Lost</th>\n",
       "      <th>Organization</th>\n",
       "      <th>Method of Leak</th>\n",
       "      <th>Sensitivity</th>\n",
       "    </tr>\n",
       "  </thead>\n",
       "  <tbody>\n",
       "    <tr>\n",
       "      <th>1</th>\n",
       "      <td>AOL</td>\n",
       "      <td>2004</td>\n",
       "      <td>92000000</td>\n",
       "      <td>Web</td>\n",
       "      <td>inside job</td>\n",
       "      <td>1</td>\n",
       "    </tr>\n",
       "    <tr>\n",
       "      <th>2</th>\n",
       "      <td>Automatic Data Processing</td>\n",
       "      <td>2005</td>\n",
       "      <td>125000</td>\n",
       "      <td>Financial</td>\n",
       "      <td>poor security</td>\n",
       "      <td>20</td>\n",
       "    </tr>\n",
       "    <tr>\n",
       "      <th>3</th>\n",
       "      <td>Ameritrade Inc.</td>\n",
       "      <td>2005</td>\n",
       "      <td>200000</td>\n",
       "      <td>Financial</td>\n",
       "      <td>lost / stolen device</td>\n",
       "      <td>20</td>\n",
       "    </tr>\n",
       "    <tr>\n",
       "      <th>4</th>\n",
       "      <td>Citigroup</td>\n",
       "      <td>2005</td>\n",
       "      <td>3900000</td>\n",
       "      <td>Financial</td>\n",
       "      <td>lost / stolen device</td>\n",
       "      <td>300</td>\n",
       "    </tr>\n",
       "  </tbody>\n",
       "</table>\n",
       "</div>"
      ],
      "text/plain": [
       "                      Entity  Year Records Lost Organization  \\\n",
       "1                        AOL  2004     92000000          Web   \n",
       "2  Automatic Data Processing  2005       125000    Financial   \n",
       "3            Ameritrade Inc.  2005       200000    Financial   \n",
       "4                  Citigroup  2005      3900000    Financial   \n",
       "\n",
       "         Method of Leak Sensitivity  \n",
       "1            inside job           1  \n",
       "2         poor security          20  \n",
       "3  lost / stolen device          20  \n",
       "4  lost / stolen device         300  "
      ]
     },
     "execution_count": 23,
     "metadata": {},
     "output_type": "execute_result"
    }
   ],
   "source": [
    "df['Organization'] = df['Organization'].str.capitalize()\n",
    "df.head(4)"
   ]
  },
  {
   "cell_type": "markdown",
   "metadata": {},
   "source": [
    "##  Convert all \"Methods of Leak\" descriptions to Captialized case"
   ]
  },
  {
   "cell_type": "code",
   "execution_count": 24,
   "metadata": {
    "ExecuteTime": {
     "end_time": "2017-09-30T17:24:02.082217Z",
     "start_time": "2017-09-30T17:24:02.064071Z"
    }
   },
   "outputs": [
    {
     "data": {
      "text/html": [
       "<div>\n",
       "<style>\n",
       "    .dataframe thead tr:only-child th {\n",
       "        text-align: right;\n",
       "    }\n",
       "\n",
       "    .dataframe thead th {\n",
       "        text-align: left;\n",
       "    }\n",
       "\n",
       "    .dataframe tbody tr th {\n",
       "        vertical-align: top;\n",
       "    }\n",
       "</style>\n",
       "<table border=\"1\" class=\"dataframe\">\n",
       "  <thead>\n",
       "    <tr style=\"text-align: right;\">\n",
       "      <th></th>\n",
       "      <th>Entity</th>\n",
       "      <th>Year</th>\n",
       "      <th>Records Lost</th>\n",
       "      <th>Organization</th>\n",
       "      <th>Method of Leak</th>\n",
       "      <th>Sensitivity</th>\n",
       "    </tr>\n",
       "  </thead>\n",
       "  <tbody>\n",
       "    <tr>\n",
       "      <th>1</th>\n",
       "      <td>AOL</td>\n",
       "      <td>2004</td>\n",
       "      <td>92000000</td>\n",
       "      <td>Web</td>\n",
       "      <td>Inside job</td>\n",
       "      <td>1</td>\n",
       "    </tr>\n",
       "    <tr>\n",
       "      <th>2</th>\n",
       "      <td>Automatic Data Processing</td>\n",
       "      <td>2005</td>\n",
       "      <td>125000</td>\n",
       "      <td>Financial</td>\n",
       "      <td>Poor security</td>\n",
       "      <td>20</td>\n",
       "    </tr>\n",
       "    <tr>\n",
       "      <th>3</th>\n",
       "      <td>Ameritrade Inc.</td>\n",
       "      <td>2005</td>\n",
       "      <td>200000</td>\n",
       "      <td>Financial</td>\n",
       "      <td>Lost / stolen device</td>\n",
       "      <td>20</td>\n",
       "    </tr>\n",
       "    <tr>\n",
       "      <th>4</th>\n",
       "      <td>Citigroup</td>\n",
       "      <td>2005</td>\n",
       "      <td>3900000</td>\n",
       "      <td>Financial</td>\n",
       "      <td>Lost / stolen device</td>\n",
       "      <td>300</td>\n",
       "    </tr>\n",
       "  </tbody>\n",
       "</table>\n",
       "</div>"
      ],
      "text/plain": [
       "                      Entity  Year Records Lost Organization  \\\n",
       "1                        AOL  2004     92000000          Web   \n",
       "2  Automatic Data Processing  2005       125000    Financial   \n",
       "3            Ameritrade Inc.  2005       200000    Financial   \n",
       "4                  Citigroup  2005      3900000    Financial   \n",
       "\n",
       "         Method of Leak Sensitivity  \n",
       "1            Inside job           1  \n",
       "2         Poor security          20  \n",
       "3  Lost / stolen device          20  \n",
       "4  Lost / stolen device         300  "
      ]
     },
     "execution_count": 24,
     "metadata": {},
     "output_type": "execute_result"
    }
   ],
   "source": [
    "df['Method of Leak'] = df['Method of Leak'].str.capitalize()\n",
    "df.head(4)"
   ]
  },
  {
   "cell_type": "markdown",
   "metadata": {},
   "source": [
    "## Update Records Lost with unknown values to 5m (5 million)"
   ]
  },
  {
   "cell_type": "code",
   "execution_count": 26,
   "metadata": {
    "ExecuteTime": {
     "end_time": "2017-09-30T17:24:11.974131Z",
     "start_time": "2017-09-30T17:24:11.915288Z"
    }
   },
   "outputs": [
    {
     "data": {
      "text/html": [
       "<div>\n",
       "<style>\n",
       "    .dataframe thead tr:only-child th {\n",
       "        text-align: right;\n",
       "    }\n",
       "\n",
       "    .dataframe thead th {\n",
       "        text-align: left;\n",
       "    }\n",
       "\n",
       "    .dataframe tbody tr th {\n",
       "        vertical-align: top;\n",
       "    }\n",
       "</style>\n",
       "<table border=\"1\" class=\"dataframe\">\n",
       "  <thead>\n",
       "    <tr style=\"text-align: right;\">\n",
       "      <th></th>\n",
       "      <th>Entity</th>\n",
       "      <th>Year</th>\n",
       "      <th>Records Lost</th>\n",
       "      <th>Organization</th>\n",
       "      <th>Method of Leak</th>\n",
       "      <th>Sensitivity</th>\n",
       "    </tr>\n",
       "  </thead>\n",
       "  <tbody>\n",
       "    <tr>\n",
       "      <th>147</th>\n",
       "      <td>OVH</td>\n",
       "      <td>2013</td>\n",
       "      <td>NaN</td>\n",
       "      <td>Web</td>\n",
       "      <td>Hacked</td>\n",
       "      <td>20</td>\n",
       "    </tr>\n",
       "    <tr>\n",
       "      <th>163</th>\n",
       "      <td>UbiSoft</td>\n",
       "      <td>2013</td>\n",
       "      <td>NaN</td>\n",
       "      <td>Gaming</td>\n",
       "      <td>Hacked</td>\n",
       "      <td>20</td>\n",
       "    </tr>\n",
       "  </tbody>\n",
       "</table>\n",
       "</div>"
      ],
      "text/plain": [
       "      Entity  Year Records Lost Organization Method of Leak Sensitivity\n",
       "147      OVH  2013          NaN          Web         Hacked          20\n",
       "163  UbiSoft  2013          NaN       Gaming         Hacked          20"
      ]
     },
     "execution_count": 26,
     "metadata": {},
     "output_type": "execute_result"
    }
   ],
   "source": [
    "df[df['Records Lost'].isnull()]"
   ]
  },
  {
   "cell_type": "code",
   "execution_count": 27,
   "metadata": {
    "ExecuteTime": {
     "end_time": "2017-09-30T17:24:13.226128Z",
     "start_time": "2017-09-30T17:24:13.209523Z"
    }
   },
   "outputs": [
    {
     "data": {
      "text/html": [
       "<div>\n",
       "<style>\n",
       "    .dataframe thead tr:only-child th {\n",
       "        text-align: right;\n",
       "    }\n",
       "\n",
       "    .dataframe thead th {\n",
       "        text-align: left;\n",
       "    }\n",
       "\n",
       "    .dataframe tbody tr th {\n",
       "        vertical-align: top;\n",
       "    }\n",
       "</style>\n",
       "<table border=\"1\" class=\"dataframe\">\n",
       "  <thead>\n",
       "    <tr style=\"text-align: right;\">\n",
       "      <th></th>\n",
       "      <th>Entity</th>\n",
       "      <th>Year</th>\n",
       "      <th>Records Lost</th>\n",
       "      <th>Organization</th>\n",
       "      <th>Method of Leak</th>\n",
       "      <th>Sensitivity</th>\n",
       "    </tr>\n",
       "  </thead>\n",
       "  <tbody>\n",
       "  </tbody>\n",
       "</table>\n",
       "</div>"
      ],
      "text/plain": [
       "Empty DataFrame\n",
       "Columns: [Entity, Year, Records Lost, Organization, Method of Leak, Sensitivity]\n",
       "Index: []"
      ]
     },
     "execution_count": 27,
     "metadata": {},
     "output_type": "execute_result"
    }
   ],
   "source": [
    "df['Records Lost'][df['Records Lost'].isnull()] = 5000000   # Replace any \"null\" Records Lost values with 5 million (5000000)\n",
    "df[df['Records Lost'].isnull()]                             # Verify there are no remaining \"null\" Records Lost values"
   ]
  },
  {
   "cell_type": "markdown",
   "metadata": {},
   "source": [
    "## Ensure all Sensitivity Codes are of numeric data type"
   ]
  },
  {
   "cell_type": "code",
   "execution_count": 28,
   "metadata": {
    "ExecuteTime": {
     "end_time": "2017-09-30T17:24:18.781909Z",
     "start_time": "2017-09-30T17:24:18.769059Z"
    },
    "scrolled": false
   },
   "outputs": [],
   "source": [
    "df['Sensitivity'] = df['Sensitivity'].apply(pd.to_numeric)"
   ]
  },
  {
   "cell_type": "markdown",
   "metadata": {},
   "source": [
    "## Update invalid/undefined Sensitivity Code records with valid Code of:  1"
   ]
  },
  {
   "cell_type": "code",
   "execution_count": 29,
   "metadata": {
    "ExecuteTime": {
     "end_time": "2017-09-30T17:24:20.473732Z",
     "start_time": "2017-09-30T17:24:20.417616Z"
    }
   },
   "outputs": [],
   "source": [
    "\n",
    "df.Sensitivity[~df['Sensitivity'].isin([1,20,300,4000,50000])] = 1"
   ]
  },
  {
   "cell_type": "markdown",
   "metadata": {},
   "source": [
    "## Verify all Sensitivity Codes are now valid"
   ]
  },
  {
   "cell_type": "code",
   "execution_count": 30,
   "metadata": {
    "ExecuteTime": {
     "end_time": "2017-09-30T17:24:25.347748Z",
     "start_time": "2017-09-30T17:24:25.315424Z"
    }
   },
   "outputs": [
    {
     "data": {
      "text/html": [
       "<div>\n",
       "<style>\n",
       "    .dataframe thead tr:only-child th {\n",
       "        text-align: right;\n",
       "    }\n",
       "\n",
       "    .dataframe thead th {\n",
       "        text-align: left;\n",
       "    }\n",
       "\n",
       "    .dataframe tbody tr th {\n",
       "        vertical-align: top;\n",
       "    }\n",
       "</style>\n",
       "<table border=\"1\" class=\"dataframe\">\n",
       "  <thead>\n",
       "    <tr style=\"text-align: right;\">\n",
       "      <th></th>\n",
       "      <th>Entity</th>\n",
       "      <th>Year</th>\n",
       "      <th>Records Lost</th>\n",
       "      <th>Organization</th>\n",
       "      <th>Method of Leak</th>\n",
       "      <th>Sensitivity</th>\n",
       "    </tr>\n",
       "  </thead>\n",
       "  <tbody>\n",
       "  </tbody>\n",
       "</table>\n",
       "</div>"
      ],
      "text/plain": [
       "Empty DataFrame\n",
       "Columns: [Entity, Year, Records Lost, Organization, Method of Leak, Sensitivity]\n",
       "Index: []"
      ]
     },
     "execution_count": 30,
     "metadata": {},
     "output_type": "execute_result"
    }
   ],
   "source": [
    "df[~df['Sensitivity'].isin([1,20,300,4000,50000])]"
   ]
  },
  {
   "cell_type": "code",
   "execution_count": 31,
   "metadata": {
    "ExecuteTime": {
     "end_time": "2017-09-30T17:24:25.832549Z",
     "start_time": "2017-09-30T17:24:25.822194Z"
    }
   },
   "outputs": [
    {
     "data": {
      "text/plain": [
       "Entity            South Carolina State Dept. of Revenue\n",
       "Year                                               2012\n",
       "Records Lost                                    3600000\n",
       "Organization                                 Government\n",
       "Method of Leak                                   Hacked\n",
       "Sensitivity                                           1\n",
       "Name: 134, dtype: object"
      ]
     },
     "execution_count": 31,
     "metadata": {},
     "output_type": "execute_result"
    }
   ],
   "source": [
    "df.iloc[133]"
   ]
  },
  {
   "cell_type": "markdown",
   "metadata": {},
   "source": [
    "## Add new column containing text string corresponding to Sensitivity Code\n",
    "1. Just email address/Online information 20 SSN/Personal details 300 Credit card information 4000 Email password/Health records 50000 Full bank account details"
   ]
  },
  {
   "cell_type": "code",
   "execution_count": 32,
   "metadata": {
    "ExecuteTime": {
     "end_time": "2017-09-30T17:24:27.072345Z",
     "start_time": "2017-09-30T17:24:26.980088Z"
    }
   },
   "outputs": [
    {
     "data": {
      "text/html": [
       "<div>\n",
       "<style>\n",
       "    .dataframe thead tr:only-child th {\n",
       "        text-align: right;\n",
       "    }\n",
       "\n",
       "    .dataframe thead th {\n",
       "        text-align: left;\n",
       "    }\n",
       "\n",
       "    .dataframe tbody tr th {\n",
       "        vertical-align: top;\n",
       "    }\n",
       "</style>\n",
       "<table border=\"1\" class=\"dataframe\">\n",
       "  <thead>\n",
       "    <tr style=\"text-align: right;\">\n",
       "      <th></th>\n",
       "      <th>Entity</th>\n",
       "      <th>Year</th>\n",
       "      <th>Records Lost</th>\n",
       "      <th>Organization</th>\n",
       "      <th>Method of Leak</th>\n",
       "      <th>Sensitivity</th>\n",
       "      <th>Sensitivity of Information</th>\n",
       "    </tr>\n",
       "  </thead>\n",
       "  <tbody>\n",
       "    <tr>\n",
       "      <th>1</th>\n",
       "      <td>AOL</td>\n",
       "      <td>2004</td>\n",
       "      <td>92000000</td>\n",
       "      <td>Web</td>\n",
       "      <td>Inside job</td>\n",
       "      <td>1</td>\n",
       "      <td>Email Address/Online Information</td>\n",
       "    </tr>\n",
       "    <tr>\n",
       "      <th>2</th>\n",
       "      <td>Automatic Data Processing</td>\n",
       "      <td>2005</td>\n",
       "      <td>125000</td>\n",
       "      <td>Financial</td>\n",
       "      <td>Poor security</td>\n",
       "      <td>20</td>\n",
       "      <td>SSN/Personal Details</td>\n",
       "    </tr>\n",
       "    <tr>\n",
       "      <th>3</th>\n",
       "      <td>Ameritrade Inc.</td>\n",
       "      <td>2005</td>\n",
       "      <td>200000</td>\n",
       "      <td>Financial</td>\n",
       "      <td>Lost / stolen device</td>\n",
       "      <td>20</td>\n",
       "      <td>SSN/Personal Details</td>\n",
       "    </tr>\n",
       "    <tr>\n",
       "      <th>4</th>\n",
       "      <td>Citigroup</td>\n",
       "      <td>2005</td>\n",
       "      <td>3900000</td>\n",
       "      <td>Financial</td>\n",
       "      <td>Lost / stolen device</td>\n",
       "      <td>300</td>\n",
       "      <td>Credit Card Information</td>\n",
       "    </tr>\n",
       "  </tbody>\n",
       "</table>\n",
       "</div>"
      ],
      "text/plain": [
       "                      Entity  Year Records Lost Organization  \\\n",
       "1                        AOL  2004     92000000          Web   \n",
       "2  Automatic Data Processing  2005       125000    Financial   \n",
       "3            Ameritrade Inc.  2005       200000    Financial   \n",
       "4                  Citigroup  2005      3900000    Financial   \n",
       "\n",
       "         Method of Leak  Sensitivity        Sensitivity of Information  \n",
       "1            Inside job            1  Email Address/Online Information  \n",
       "2         Poor security           20              SSN/Personal Details  \n",
       "3  Lost / stolen device           20              SSN/Personal Details  \n",
       "4  Lost / stolen device          300           Credit Card Information  "
      ]
     },
     "execution_count": 32,
     "metadata": {},
     "output_type": "execute_result"
    }
   ],
   "source": [
    "def getSensitivityText(x):\n",
    "    if (x == 1):\n",
    "        return 'Email Address/Online Information'\n",
    "    elif (x == 20):\n",
    "        return 'SSN/Personal Details'\n",
    "    elif (x == 300):\n",
    "        return 'Credit Card Information'\n",
    "    elif (x == 4000):\n",
    "        return 'Email Password/Health Records'\n",
    "    elif (x == 50000):\n",
    "        return 'Full Bank Account Details'\n",
    "    else:\n",
    "        return 'Other'\n",
    "df2 = df.copy()\n",
    "df2['Sensitivity of Information'] = df.Sensitivity.apply(getSensitivityText)\n",
    "df2.head(4)"
   ]
  },
  {
   "cell_type": "markdown",
   "metadata": {},
   "source": [
    "## Write Dataframe to \".csv\" file for import into Tableau"
   ]
  },
  {
   "cell_type": "code",
   "execution_count": 33,
   "metadata": {
    "ExecuteTime": {
     "end_time": "2017-09-30T17:24:28.272593Z",
     "start_time": "2017-09-30T17:24:28.246471Z"
    }
   },
   "outputs": [],
   "source": [
    "df2.to_csv('DataBreachLab2.csv')"
   ]
  },
  {
   "cell_type": "code",
   "execution_count": null,
   "metadata": {},
   "outputs": [],
   "source": []
  }
 ],
 "metadata": {
  "kernelspec": {
   "display_name": "Python 3",
   "language": "python",
   "name": "python3"
  },
  "language_info": {
   "codemirror_mode": {
    "name": "ipython",
    "version": 3
   },
   "file_extension": ".py",
   "mimetype": "text/x-python",
   "name": "python",
   "nbconvert_exporter": "python",
   "pygments_lexer": "ipython3",
   "version": "3.6.2"
  },
  "toc": {
   "nav_menu": {},
   "number_sections": true,
   "sideBar": true,
   "skip_h1_title": false,
   "toc_cell": false,
   "toc_position": {},
   "toc_section_display": "block",
   "toc_window_display": false
  },
  "varInspector": {
   "cols": {
    "lenName": 16,
    "lenType": 16,
    "lenVar": 40
   },
   "kernels_config": {
    "python": {
     "delete_cmd_postfix": "",
     "delete_cmd_prefix": "del ",
     "library": "var_list.py",
     "varRefreshCmd": "print(var_dic_list())"
    },
    "r": {
     "delete_cmd_postfix": ") ",
     "delete_cmd_prefix": "rm(",
     "library": "var_list.r",
     "varRefreshCmd": "cat(var_dic_list()) "
    }
   },
   "types_to_exclude": [
    "module",
    "function",
    "builtin_function_or_method",
    "instance",
    "_Feature"
   ],
   "window_display": false
  }
 },
 "nbformat": 4,
 "nbformat_minor": 2
}
